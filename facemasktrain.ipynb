{
  "cells": [
    {
      "cell_type": "code",
      "execution_count": null,
      "metadata": {
        "colab": {
          "base_uri": "https://localhost:8080/"
        },
        "id": "ShtkM_fqdu4z",
        "outputId": "fc0ffce1-e900-40e2-e409-63f84ceabd59"
      },
      "outputs": [],
      "source": [
        "!git clone https://github.com/ultralytics/yolov5  # clone repo\n",
        "%cd yolov5\n",
        "%pip install -qr requirements.txt # install dependencies\n",
        "%pip install -q roboflow\n",
        "\n",
        "import torch\n",
        "import os\n",
        "import shutil\n",
        "from IPython.display import Image, clear_output  # to display images\n"
      ]
    },
    {
      "cell_type": "code",
      "execution_count": null,
      "metadata": {
        "colab": {
          "base_uri": "https://localhost:8080/"
        },
        "id": "P8YLEoaqJ74d",
        "outputId": "ca338b2f-2a68-4495-e1b7-fb4cf6c3299b"
      },
      "outputs": [],
      "source": [
        "!pip install roboflow\n",
        "\n",
        "# might need to be modified before run\n",
        "os.environ[\"DATASET_DIRECTORY\"] = \"/content/datasets\" # path to datasets directory\n",
        "yolov5_directory = '/content/yolov5' # path to `yolov5` directory (*contains train.py and val.py)\n",
        "os.environ[\"YOLOV5_DIRECTORY\"] = yolov5_directory\n",
        "\n",
        "from roboflow import Roboflow\n",
        "rf = Roboflow(api_key=#API#)\n",
        "project = rf.workspace().project(#PROJECTNAME#)\n",
        "dataset = project.version(1).download(\"yolov5\")"
      ]
    },
    {
      "cell_type": "code",
      "execution_count": null,
      "metadata": {
        "colab": {
          "base_uri": "https://localhost:8080/"
        },
        "id": "ETjCypoTLocn",
        "outputId": "736310f5-6090-4b7c-e58e-1755c5ab5cac"
      },
      "outputs": [],
      "source": [
        "# change model here\n",
        "yolov5_model = 'n' #@param [\"n\", \"s\", \"m\", \"l\", \"x\"]\n",
        "config = 'yolov5' + yolov5_model + '.yaml'\n",
        "startWeights = 'yolov5' + yolov5_model + '.pt'\n",
        "\n",
        "os.environ[\"YOLO_CONFIG\"] = config\n",
        "os.environ[\"INIT_WEIGHTS\"] = startWeights"
      ]
    },
    {
      "cell_type": "code",
      "execution_count": null,
      "metadata": {
        "colab": {
          "base_uri": "https://localhost:8080/"
        },
        "id": "eaFNnxLJbq4J",
        "outputId": "20114d03-7185-49f5-9df0-390c91deff71"
      },
      "outputs": [],
      "source": [
        "!python train.py --img 416 --batch-size -1 --epochs 300 --data {dataset.location}/data.yaml --cfg {config} --weights {startWeights} --cache"
      ]
    },
    {
      "cell_type": "code",
      "execution_count": null,
      "metadata": {
        "colab": {
          "base_uri": "https://localhost:8080/"
        },
        "id": "PuHTUNZ4KL9F",
        "outputId": "8d523ba4-577d-4869-87d8-869294336d10"
      },
      "outputs": [],
      "source": [
        "def getLastCreatedExp():\n",
        "  \"\"\"\n",
        "    Returns name of last created exp folder (located in /runs/train/...)\n",
        "  \"\"\"\n",
        "  contents = os.listdir(f'{yolov5_directory}/runs/train')\n",
        "  contentsWithoutZIP = []\n",
        "  for f in contents:\n",
        "    if '.zip' not in f and 'exp' in f:\n",
        "      contentsWithoutZIP.append(f)\n",
        "  contentsWithoutZIP.sort()\n",
        "  return contentsWithoutZIP[-1]\n",
        "\n",
        "last_exp = getLastCreatedExp()"
      ]
    },
    {
      "cell_type": "code",
      "execution_count": null,
      "metadata": {
        "colab": {
          "base_uri": "https://localhost:8080/"
        },
        "id": "KB7ksLRDFFKx",
        "outputId": "27a6f064-ed14-44d7-b2f5-310181189d3c"
      },
      "outputs": [],
      "source": [
        "# evaluates trained model on test set\n",
        "!python val.py --data {dataset.location}/data.yaml --batch-size 8 --weights {yolov5_directory}/runs/train/{last_exp}/weights/last.pt"
      ]
    },
    {
      "cell_type": "markdown",
      "metadata": {
        "id": "vNjYQn3iYrJN"
      },
      "source": [
        "Weights and train results are located in `runs/train/exp*` whiel test results are saved in `runs/val/exp*`.\n",
        "\n"
      ]
    }
  ],
  "metadata": {
    "accelerator": "GPU",
    "colab": {
      "collapsed_sections": [],
      "name": "Copy of Untitled3dafuq state.ipynb",
      "provenance": []
    },
    "kernelspec": {
      "display_name": "Python 3 (ipykernel)",
      "language": "python",
      "name": "python3"
    },
    "language_info": {
      "codemirror_mode": {
        "name": "ipython",
        "version": 3
      },
      "file_extension": ".py",
      "mimetype": "text/x-python",
      "name": "python",
      "nbconvert_exporter": "python",
      "pygments_lexer": "ipython3",
      "version": "3.8.10"
    }
  },
  "nbformat": 4,
  "nbformat_minor": 0
}
