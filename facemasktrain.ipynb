{
 "cells": [
  {
   "cell_type": "markdown",
   "metadata": {
    "colab_type": "text",
    "id": "view-in-github"
   },
   "source": [
    "<a href=\"https://colab.research.google.com/github/thelcrysis/facemaskseminar/blob/main/facemasktrain.ipynb\" target=\"_parent\"><img src=\"https://colab.research.google.com/assets/colab-badge.svg\" alt=\"Open In Colab\"/></a>"
   ]
  },
  {
   "cell_type": "code",
   "execution_count": null,
   "metadata": {
    "id": "ShtkM_fqdu4z"
   },
   "outputs": [],
   "source": [
    "!git clone https://github.com/ultralytics/yolov5  # clone repo\n",
    "%cd yolov5\n",
    "%pip install -qr requirements.txt # install dependencies\n",
    "%pip install -q roboflow\n",
    "\n",
    "import torch\n",
    "import os\n",
    "from IPython.display import Image, clear_output  # to display images\n"
   ]
  },
  {
   "cell_type": "code",
   "execution_count": null,
   "metadata": {
    "id": "P8YLEoaqJ74d"
   },
   "outputs": [],
   "source": [
    "!pip install roboflow\n",
    "\n",
    "os.environ[\"DATASET_DIRECTORY\"] = \"/content/datasets\"\n",
    "import shutil\n",
    "from roboflow import Roboflow\n",
    "rf = Roboflow(api_key=#API#)\n",
    "project = rf.workspace().project(#PROJECTNAME#)\n",
    "dataset = project.version(1).download(\"yolov5\")"
   ]
  },
  {
   "cell_type": "code",
   "execution_count": null,
   "metadata": {
    "id": "ETjCypoTLocn"
   },
   "outputs": [],
   "source": [
    "yolov5_model = 'l' #@param [\"n\", \"s\", \"m\", \"l\", \"x\"]\n",
    "config = 'yolov5' + yolov5_model + '.yaml'\n",
    "startWeights = 'yolov5' + yolov5_model + '.pt'\n",
    "\n",
    "print(config)\n",
    "print(startWeights)\n",
    "os.environ[\"YOLO_CONFIG\"] = config\n",
    "os.environ[\"INIT_WEIGHTS\"] = startWeights\n"
   ]
  },
  {
   "cell_type": "code",
   "execution_count": null,
   "metadata": {
    "id": "eaFNnxLJbq4J"
   },
   "outputs": [],
   "source": [
    "!python train.py --img 416 --batch-size -1 --epochs 300 --data {dataset.location}/data.yaml --cfg {config} --weights {startWeights} --cache"
   ]
  },
  {
   "cell_type": "code",
   "execution_count": null,
   "metadata": {
    "id": "PuHTUNZ4KL9F"
   },
   "outputs": [],
   "source": [
    "def getLastCreatedExp():\n",
    "  contents = os.listdir('/content/yolov5/runs/train')\n",
    "  contentsWithoutZIP = []\n",
    "  for f in contents:\n",
    "    if '.zip' not in f and 'exp' in f:\n",
    "      contentsWithoutZIP.append(f)\n",
    "  print(contentsWithoutZIP)\n",
    "  contentsWithoutZIP.sort()\n",
    "  print(contentsWithoutZIP)\n",
    "  return contentsWithoutZIP[-1]\n",
    "\n",
    "last_exp = getLastCreatedExp()\n",
    "print(f'Saving .zip file at /content/yolov5/runs/train/{last_exp}')"
   ]
  },
  {
   "cell_type": "code",
   "execution_count": null,
   "metadata": {
    "id": "u0j1RuVaRHjP"
   },
   "outputs": [],
   "source": [
    "shutil.make_archive(f'/content/yolov5/runs/train/{last_exp}', 'zip', f'/content/yolov5/runs/train/{last_exp}')\n",
    "\n",
    "print(f\"Weights and stats zipped and ready for download at /content/yolov5/runs/train/{last_exp}.zip\")"
   ]
  }
 ],
 "metadata": {
  "accelerator": "GPU",
  "colab": {
   "authorship_tag": "ABX9TyPlwIPVe+WccsshV5Olhxhx",
   "include_colab_link": true,
   "name": "Untitled0.ipynb",
   "provenance": []
  },
  "kernelspec": {
   "display_name": "Python 3 (ipykernel)",
   "language": "python",
   "name": "python3"
  },
  "language_info": {
   "codemirror_mode": {
    "name": "ipython",
    "version": 3
   },
   "file_extension": ".py",
   "mimetype": "text/x-python",
   "name": "python",
   "nbconvert_exporter": "python",
   "pygments_lexer": "ipython3",
   "version": "3.8.10"
  }
 },
 "nbformat": 4,
 "nbformat_minor": 1
}
